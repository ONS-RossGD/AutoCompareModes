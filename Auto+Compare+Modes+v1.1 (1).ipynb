{
 "cells": [
  {
   "cell_type": "markdown",
   "metadata": {},
   "source": [
    "<div id='firstRun'>\n",
    "    <h2 style=\"color:red\">If this is your first time \n",
    "    opening the script please click \"Cell\" then \"Run All\" in \n",
    "    the menu bar above.</h2>\n",
    "</div>"
   ]
  },
  {
   "cell_type": "markdown",
   "metadata": {},
   "source": [
    "# Auto Compare Modes v1.1\n",
    "### Auto Compare Modes is a tool that bulk converts CORD Stat Act Comparison Reports into much more usefully fomatted Excel spreadsheets.\n",
    "\n",
    "<b>Instructions:</b>\n",
    "1. Download comparison reports as normal from CORD, and move the zip files to a folder that <b>contains only the comparisons reports you wish to analyse, and nothing else. Do not rename the zip files.</b>\n",
    "2. Using the \"Input Location\" button, select the folder you just moved your reports to.\n",
    "3. Using the \"Output Location\" button, select a location where you would like the resulting summary spreadsheet to be saved.\n",
    "4. Click the \"Run\" button. A progress bar will appear underneath indicating how long is left before completion.\n",
    "5. Once complete, 2 shortcut buttons will appear:\n",
    "    - The \"Open Output Folder\" button will open a file explorer window at the output location you set.\n",
    "    - The \"Open Comparison Mode Summary\" button will open the generated comparison using Excel.\n",
    "\n",
    "<b>Limitations & Troubleshooting: </b>\n",
    "* Currently, the script can only create one summary file for one comparison (eg INT21-\n",
    "Bluebook). If other comparison zip's are found in the input file (eg DEV21-Bluebook), the comparison file will be skipped.\n",
    "* Input and Output folders cannot be sharepoint locations and must either be local, or networked drive folders.\n",
    "* If you experience any unexpected behaviour, first try resetting the script. To reset the script, in the menu bar above click \"Kernel\" then \"Restart & Run All\". <b> Note:</b> You do not have to reset the script after each run, only if you experience issues."
   ]
  },
  {
   "cell_type": "code",
   "execution_count": 35,
   "metadata": {
    "collapsed": true
   },
   "outputs": [],
   "source": [
    "#Import modules for later use\n",
    "import os, sys, glob, logging, time, threading, subprocess, traitlets\n",
    "import numpy as np, pandas as pd, tkinter as tk\n",
    "from datetime import datetime\n",
    "from tkinter.filedialog import askdirectory\n",
    "from zipfile import ZipFile\n",
    "from ipywidgets import widgets\n",
    "from IPython.display import display, HTML\n",
    "from ipywidgets import widgets"
   ]
  },
  {
   "cell_type": "code",
   "execution_count": 36,
   "metadata": {
    "collapsed": true
   },
   "outputs": [],
   "source": [
    "class SelectFolderButton(widgets.Button):\n",
    "    \"\"\"A file widget that leverages tkinter.filedialog.\"\"\"\n",
    "\n",
    "    def __init__(self, desc):\n",
    "        super(SelectFolderButton, self).__init__()\n",
    "        # Create the button.\n",
    "        self.description = desc\n",
    "        self.icon = \"square-o\"\n",
    "        self.style.button_color = \"orange\"\n",
    "        self.layout = widgets.Layout(width='150px',height = '25px')\n",
    "        # Set on click behavior.\n",
    "        self.on_click(self.select_files)\n",
    "\n",
    "    @staticmethod\n",
    "    def select_files(b):\n",
    "        \"\"\"Generate instance of tkinter.filedialog.\n",
    "\n",
    "        Parameters\n",
    "        ----------\n",
    "        b : obj:\n",
    "            An instance of ipywidgets.widgets.Button \n",
    "        \"\"\"\n",
    "        # Create Tk root\n",
    "        root = tk.Tk()\n",
    "        # Hide the main window\n",
    "        root.withdraw()\n",
    "        # Raise the root to the top of all windows.\n",
    "        root.call('wm', 'attributes', '.', '-topmost', True)\n",
    "        # List of selected files will be set to b.value\n",
    "        b.folder = askdirectory(title=\"Choose an INPUT folder\")\n",
    "        if not b.folder == '':\n",
    "            b.icon = \"check-square-o\"\n",
    "            b.style.button_color = \"lightgreen\""
   ]
  },
  {
   "cell_type": "code",
   "execution_count": 37,
   "metadata": {
    "collapsed": true
   },
   "outputs": [],
   "source": [
    "#Global variable that detects whether a run is ongoing\n",
    "running=False\n",
    "#Function to open a folder via windows explorer\n",
    "def openOutput(output_loc):\n",
    "    \"\"\"Uses the command prompt to open a windows explorer window at the location 'output_loc'.\n",
    "    \"\"\"\n",
    "    fol = output_loc\n",
    "    fol = fol.replace('/','\\\\')\n",
    "    rp = os.getcwd()\n",
    "    try:\n",
    "        os.chdir(fol)\n",
    "        os.chdir(rp)\n",
    "        subprocess.call('explorer '+fol, shell=True)\n",
    "    except:\n",
    "        self.showMessage('Output folder does not exist!',mType='error',\n",
    "                         detTxt='The following path is not an existing'+\n",
    "                         ' directory:\\n'+output_txt.text())\n",
    "        os.chdir(rp)\n",
    "def openSummary(loc):\n",
    "    os.system('start \"excel\" \"'+loc+'\"')"
   ]
  },
  {
   "cell_type": "code",
   "execution_count": 38,
   "metadata": {},
   "outputs": [
    {
     "data": {
      "application/vnd.jupyter.widget-view+json": {
       "model_id": "259eec6d2c304f5eb1fc23c5c0946e29"
      }
     },
     "metadata": {},
     "output_type": "display_data"
    }
   ],
   "source": [
    "#Create GUI\n",
    "def run(b):\n",
    "    global running\n",
    "    if not running:\n",
    "        running = True\n",
    "        prog_bar.value = 0\n",
    "        prog_bar.bar_style = ''\n",
    "        run_button.description = 'Running...'\n",
    "        run_button.disabled = True\n",
    "        GUI_box_items = list(GUI_box.children)\n",
    "        if prog_bar not in GUI_box_items:\n",
    "            GUI_box_items.append(prog_bar)\n",
    "        if open_out_button in GUI_box_items:\n",
    "            GUI_box_items.remove(open_out_button)\n",
    "        if open_button in GUI_box_items:\n",
    "            GUI_box_items.remove(open_button)\n",
    "        GUI_box.children=tuple(GUI_box_items)\n",
    "        main(inp_lbl.value, out_lbl.value)\n",
    "        \"\"\"try:\n",
    "            main(inp_lbl.value, out_lbl.value)\n",
    "        except ValueError as ve:\n",
    "            logger.critical('Main task failed to complete due to an error noted above.'\n",
    "                            ' Please address errors then try again.')\n",
    "            logger.debug(ve)\n",
    "            fail()\n",
    "        except Exception as e:\n",
    "            logger.critical('Main task failed to complete due to an unknown error. '\n",
    "                            'Please try resetting script using \"Kernel\"->\"Restart & '\n",
    "                            'Run All\". If error persists contact Ross '\n",
    "                            'at Ross.Gregory-Davies@ext.ons.gov.uk')\n",
    "            logger.debug(e)\n",
    "            critical_fail()\"\"\"\n",
    "def fail():\n",
    "    global running\n",
    "    running = False\n",
    "    run_button.disabled = False\n",
    "    pThread.stop()\n",
    "    run_button.description = 'Run'\n",
    "    prog_bar.bar_style = 'danger'\n",
    "def critical_fail():\n",
    "    global running\n",
    "    running = False\n",
    "    run_button.button_style = 'danger'\n",
    "    pThread.stop()\n",
    "    prog_bar.bar_style = 'danger'\n",
    "    run_button.disabled = True\n",
    "    run_button.description = 'Failed. Reset Required.'\n",
    "def enable_run(b):\n",
    "    if inp_button.icon == \"check-square-o\" and out_button.icon == \"check-square-o\":\n",
    "        #GUI_box.children += (run_button,)\n",
    "        run_button.button_style = \"success\"\n",
    "        run_button.disabled = False\n",
    "def update_button(b):\n",
    "    if inp_button.icon == \"check-square-o\":\n",
    "        inp_lbl.value = inp_button.folder\n",
    "    if out_button.icon == \"check-square-o\":\n",
    "        out_lbl.value = out_button.folder\n",
    "    enable_run(b)\n",
    "def completed_run(out_loc):\n",
    "    global running\n",
    "    running = False\n",
    "    run_button.disabled = False\n",
    "    run_button.description = 'Run'\n",
    "    prog_bar.bar_style = 'success'\n",
    "    open_out_button.on_click(lambda b: openOutput(out_lbl.value)) \n",
    "    open_button.on_click(lambda b: openSummary(out_loc))\n",
    "    GUI_box.children=tuple(list(GUI_box.children)+[open_out_button, open_button])\n",
    "lbl_layout = widgets.Layout(width='auto', height='', max_width='1920px')\n",
    "inp_button = SelectFolderButton(\"Input Location\")\n",
    "inp_lbl = widgets.Label('Please select...', layout=lbl_layout)\n",
    "out_button = SelectFolderButton(\"Output Location\")\n",
    "out_lbl = widgets.Label('Please select...', layout=lbl_layout)\n",
    "prog_bar = widgets.FloatProgress(\n",
    "                value=0,\n",
    "                min=0,\n",
    "                max=100,\n",
    "                description='Progress:',\n",
    "                bar_style='', # 'success', 'info', 'warning', 'danger' or ''\n",
    "                orientation='horizontal',\n",
    "                layout=widgets.Layout(width='auto',height = '')\n",
    "            )\n",
    "inp_button.on_click(update_button)\n",
    "out_button.on_click(update_button)\n",
    "folder_layout = widgets.Layout(width='auto', height='')\n",
    "inp_both = widgets.HBox(children=[inp_button, inp_lbl])\n",
    "out_both = widgets.HBox(children=[out_button, out_lbl])\n",
    "folder_box = widgets.VBox(children=[inp_both, out_both], layout=folder_layout)\n",
    "run_button = widgets.Button(description='Run', disabled=True,\n",
    "                                  layout=widgets.Layout(width='auto',height = '50px'))\n",
    "open_out_button = widgets.Button(description='Open Output Folder', button_style = 'info',\n",
    "                                  layout=widgets.Layout(width='auto',height = '25px'))\n",
    "open_button = widgets.Button(description='Open Compare Mode Summary', button_style = 'info',\n",
    "                                  layout=widgets.Layout(width='auto',height = '25px'))\n",
    "run_button.on_click(run)\n",
    "GUI_box = widgets.VBox(children=[folder_box, run_button])\n",
    "GUI_box"
   ]
  },
  {
   "cell_type": "code",
   "execution_count": 39,
   "metadata": {
    "collapsed": true
   },
   "outputs": [],
   "source": [
    "#Class for managing the progress bar in a seperate thread\n",
    "class progThread(threading.Thread):\n",
    "    \"\"\"Creates a new thread to update the progress bar smoothly without causing delays to the\n",
    "    existing process.\n",
    "    Usage: progThread(start value, amount to increase, delay between increase, progress bar object)\n",
    "    Example: progThread(10, 60, 2, prog_bar)\n",
    "             This would create a thread to update prog_bar with values starting at 10 and\n",
    "             ending at 70, using 1 step increments every 2 seconds.\n",
    "    \"\"\"\n",
    "    def __init__(self, progStart, amount, delay, prog):\n",
    "        threading.Thread.__init__(self)\n",
    "        self._stop_event = threading.Event()\n",
    "        self.progStart = progStart\n",
    "        self.amount = amount\n",
    "        self.delay = delay\n",
    "        self.prog = prog\n",
    "        self.kill = False\n",
    "    def run(self):\n",
    "        i = self.progStart\n",
    "        lastCall = time.time()\n",
    "        while i<self.progStart+self.amount:\n",
    "            curTime = time.time()\n",
    "            if self.kill:\n",
    "                break\n",
    "            if curTime-lastCall >= self.delay:\n",
    "                lastCall = curTime\n",
    "                self.prog.value = i\n",
    "                i+=1\n",
    "        if not self.stopped():\n",
    "            self.stop()\n",
    "    def stop(self):\n",
    "        self.kill = True\n",
    "        self._stop_event.set()\n",
    "    def stopped(self):\n",
    "        return self._stop_event.is_set()"
   ]
  },
  {
   "cell_type": "code",
   "execution_count": 40,
   "metadata": {
    "collapsed": true
   },
   "outputs": [],
   "source": [
    "#Custom logging handler that ignores debug and info calls\n",
    "class GUIHandler(logging.StreamHandler):\n",
    "    \"\"\"Custom stream handler to allow writing all levels to file but only\n",
    "    non-info/debug levels to the users console.\n",
    "    \"\"\"\n",
    "    def __init__(self):\n",
    "        logging.StreamHandler.__init__(self)\n",
    "    def emit(self, record):\n",
    "        try:\n",
    "            msg = self.format(record)\n",
    "            if not '[DEBUG]' in msg and not '[INFO]' in msg:\n",
    "                self.stream.write(msg)\n",
    "                self.stream.write(self.terminator)\n",
    "            self.flush()\n",
    "        except (KeyboardInterrupt, SystemExit):\n",
    "            raise\n",
    "        except:\n",
    "            self.handleError(record)"
   ]
  },
  {
   "cell_type": "code",
   "execution_count": 41,
   "metadata": {
    "collapsed": true
   },
   "outputs": [],
   "source": [
    "def setupFilepaths():\n",
    "    \"\"\"Sets up the INPUT and OUTPUT filepaths by asking the user to select the\n",
    "    folders.\n",
    "    Returns a list of filepath strings based on input arguments.\n",
    "    \"\"\"\n",
    "    root = tk.Tk()\n",
    "    filepaths = []\n",
    "    inpFol = askdirectory(title=\"Choose an INPUT folder\")\n",
    "    filepaths.append(inpFol)\n",
    "    outFol = askdirectory(title=\"Choose an OUTPUT folder\")\n",
    "    filepaths.append(outFol)\n",
    "    root.destroy()\n",
    "    if inpFol == '':\n",
    "        logger.error('An INPUT folder must be selected.')\n",
    "        raise ValueError('INPUT Folder not selected.')\n",
    "    if outFol == '':\n",
    "        logger.error('An OUTPUT folder must be selected.')\n",
    "        raise ValueError('OUTPUT Folder not selected.')\n",
    "    return filepaths"
   ]
  },
  {
   "cell_type": "code",
   "execution_count": 42,
   "metadata": {
    "collapsed": true
   },
   "outputs": [],
   "source": [
    "def unzipFiles(file):\n",
    "    \"\"\"Unzips all zip files within the specified folder.\n",
    "    \"\"\"\n",
    "    fileTitle = os.path.splitext(file)[0]\n",
    "    logger.info('Unzipping '+fileTitle+'...')\n",
    "    with ZipFile(file, 'r') as zipObj:\n",
    "        zipObj.extractall(fileTitle)    "
   ]
  },
  {
   "cell_type": "code",
   "execution_count": 43,
   "metadata": {
    "collapsed": true
   },
   "outputs": [],
   "source": [
    "def compileCO(summaryDf, idxName):\n",
    "    \"\"\"Compiles summary dataframe's into coDf, where each summaryDf is a row.\n",
    "    \"\"\"\n",
    "    global coDf\n",
    "    for i, column in enumerate(summaryDf.loc[0,:]):\n",
    "        coDf.loc[idxName, column] = summaryDf.loc[1, i]\n",
    "    coDf = coDf.replace('N', np.nan)"
   ]
  },
  {
   "cell_type": "code",
   "execution_count": 44,
   "metadata": {
    "collapsed": true
   },
   "outputs": [],
   "source": [
    "def readSummmary(dirname):\n",
    "    \"\"\"Reads the Comparison Report file within specified directory (dirname).\n",
    "    Returns the summary file dataframe, name of the system, the source and \n",
    "    target modes.\n",
    "    \n",
    "    Skips first 5 rows of the file and transposes the datframe to create\n",
    "    summaryDf. headerDf is also created which is only used the read the file\n",
    "    header which contains the source and target of the comparison for later\n",
    "    checks.\n",
    "    \"\"\"\n",
    "    global supportedTypes\n",
    "    files = []\n",
    "    for (dirpath, dirnames, filenames) in os.walk(dirname):\n",
    "        files.extend(filenames)\n",
    "        break\n",
    "    for file in files:\n",
    "        file = dirpath+'/'+file\n",
    "        if '_Comparison_Report_Summary_' in file:\n",
    "            splitDir = dirname.split('\\\\')[-1]\\\n",
    "                            .split('_Stat_Act_Comparision_Report_')\n",
    "            summaryDf = pd.read_csv(file, skiprows=5, header=None,\n",
    "                                       encoding='unicode_escape')\n",
    "            headerDf = pd.read_csv(file, header=None, sep='|',\n",
    "                                       encoding='unicode_escape')\n",
    "            infoLine = headerDf.loc[2, 0]\n",
    "            splitInfo = infoLine.split('/')\n",
    "            src = splitInfo[1].split(' ')[0]\n",
    "            trg = splitInfo[2]\n",
    "            summaryDf = summaryDf.T\n",
    "        #No_objects_found.txt fills report summary files when a Stat Act Comp\n",
    "        #is run on an empty Statistical Activity.\n",
    "        if 'No_objects_found' in file:\n",
    "            summaryDf = pd.DataFrame()\n",
    "            src = 'invalid'\n",
    "            trg = 'invalid'\n",
    "            splitDir =  dirname.split('\\\\')[-1]\\\n",
    "                            .split('_Stat_Act_Comparision_Report_')\n",
    "    for i, col in enumerate(summaryDf.iloc[0]):\n",
    "        if col not in list(supportedTypes):\n",
    "            summaryDf.drop(i, axis=1, inplace=True)\n",
    "            logger.warning('Unable to read \"'+col+'\" in \"'+splitDir[0]+'\" as'\n",
    "                           ' it is currently unsupported.\\nThese values will'\n",
    "                           ' have to be checked manually.')\n",
    "    summaryDf.columns = range(summaryDf.shape[1])\n",
    "    return summaryDf, splitDir[0], src, trg"
   ]
  },
  {
   "cell_type": "code",
   "execution_count": 45,
   "metadata": {
    "collapsed": true
   },
   "outputs": [],
   "source": [
    "def formatComparison(writer):\n",
    "    \"\"\"Formats the Comparison Overview worksheet.\n",
    "    \n",
    "    Sets column widths and assigns relevant formatting to cells.\n",
    "    \"\"\"\n",
    "    global coDf\n",
    "    wb = writer.book\n",
    "    ws = writer.sheets['Comparison Overview']\n",
    "    r = len(coDf.iloc[:, 0]) + 1\n",
    "    diff_format = wb.add_format({'bg_color': '#f67c7c',\n",
    "                                 'border_color': '#d60000',\n",
    "                                 'border': 5,\n",
    "                                 'align': 'center',\n",
    "                                 'valign': 'vcenter',\n",
    "                                 'bold': True,\n",
    "                                 'font_color': 'white'})\n",
    "    empty_format = wb.add_format({'bg_color': 'white',\n",
    "                                 'border': 1,\n",
    "                                 'align': 'center',\n",
    "                                 'valign': 'vcenter'})\n",
    "    diffDf = coDf.replace(np.nan, '')\n",
    "    for c in range(len(coDf.iloc[0, :])):\n",
    "        for r in range(len(coDf.iloc[:, 0])):\n",
    "            if diffDf.iloc[r, c] != '':\n",
    "                ws.write(r+1, c+1, 'Different', diff_format)\n",
    "            else:\n",
    "                ws.write(r+1, c+1, '', empty_format)\n",
    "    ws.set_column(0, 0, 30)\n",
    "    ws.set_column(1, 1, 14)\n",
    "    ws.set_column(2, 2, 10)\n",
    "    ws.set_column(3, 3, 10)\n",
    "    ws.set_column(4, 4, 11)\n",
    "    ws.set_column(5, 5, 13)\n",
    "    ws.set_column(6, 6, 12)\n",
    "    ws.set_column(7, 7, 12)\n",
    "    ws.set_column(8, 8, 10)\n",
    "    ws.set_column(9, 9, 16)\n",
    "    ws.set_column(10, 10, 15)\n",
    "    ws.set_column(11, 11, 12)"
   ]
  },
  {
   "cell_type": "code",
   "execution_count": 46,
   "metadata": {
    "collapsed": true
   },
   "outputs": [],
   "source": [
    "def adjustCO(sys, field):\n",
    "    \"\"\"Adjusts the Comparison Overview sheet in the case a badly encoded csv\n",
    "    is found.\n",
    "    \"\"\"\n",
    "    global writer\n",
    "    global coDf\n",
    "    wb = writer.book\n",
    "    ws = writer.sheets['Comparison Overview']\n",
    "    col = None\n",
    "    for c, title in enumerate(coDf.columns):\n",
    "        if title == field:\n",
    "            col = c\n",
    "    if col == None:\n",
    "        logger.error('Field not found!')\n",
    "    row = None\n",
    "    for r, idx in enumerate(coDf.index):\n",
    "        if idx == sys:\n",
    "            row = r\n",
    "    if row == None:\n",
    "        logger.error('System not found!')\n",
    "    ws.write(row+1, col+1, 'Review', wb.add_format({'border': 5,\n",
    "                                                  'bg_color': 'red',\n",
    "                                                  'border_color': '#cc3300',\n",
    "                                                  'align': 'center',\n",
    "                                                  'valign': 'vcenter',\n",
    "                                                  'bold': True,\n",
    "                                                  'font_color': 'white'}))"
   ]
  },
  {
   "cell_type": "code",
   "execution_count": 47,
   "metadata": {
    "collapsed": true
   },
   "outputs": [],
   "source": [
    "def createSheetDf(sheet):\n",
    "    \"\"\"Returns the dataframe holding the comparison field data for all systems\n",
    "    where the comparison report showed differences.\n",
    "    \"\"\"\n",
    "    global curDir\n",
    "    files = []\n",
    "    #Predefine the sheet dictionary which helps read the csv files\n",
    "    sheetDict = dict([('CLASSIFICATION', 'Classifications'),\n",
    "                     ('TASK', 'Tasks'),\n",
    "                     ('PARAMETERS', 'Parameters'),\n",
    "                     ('MAPPINGS', 'Classification_Mappings'),\n",
    "                     ('CALCULATIONS', 'Calculations'),\n",
    "                     ('CON CHECKS', 'Consistency_Checks'),\n",
    "                     ('IMPORT DEFS', 'Import_Definitions'),\n",
    "                     ('DATASETS', 'Dataset_Definitions'),\n",
    "                     ('SEAS EXPORT DEFS', 'Seas_Analysis_Export_Definitions'),\n",
    "                     ('VISUALISATIONS', 'Visualisations'),\n",
    "                     ('EXPORT DEFS', 'Export_Definitions')])\n",
    "    #Convert column header (sheet) to filename (sheetToFile) based on sheetDict\n",
    "    try: \n",
    "        sheetFileName = sheetDict[sheet]\n",
    "    except:\n",
    "        logger.error('Unrecognised sheet \"' + sheet + '\", skipping...')\n",
    "        return\n",
    "    #Create a list containing all files\n",
    "    for (dirpath, dirnames, filenames) in os.walk(curDir):\n",
    "        files.extend(filenames)\n",
    "        break\n",
    "    #loop through files until we find the one we're looking for\n",
    "    for file in files:\n",
    "        file = dirpath+'/'+file\n",
    "        if sheetFileName in file:\n",
    "            dataStart = None\n",
    "            basAtr = None\n",
    "            #Try to read the csv, if the encoding is unrecognised the send\n",
    "            #it to adjustCO to show it's been skipped on output sheet.\n",
    "            try:\n",
    "                prelimDf = pd.read_csv(file, header=None, sep='\\n',\n",
    "                               encoding = 'unicode_escape')\n",
    "            except:\n",
    "                logger.error('BAD ENCODING IN '+curDir+' \\nSKIPPING DATA,'+\n",
    "                      'THIS WILL NEED TO BE REVIEWED MANUALLY...')\n",
    "                adjustCO(curDir.split('_')[0], sheet)\n",
    "                continue\n",
    "            for i, line in enumerate(prelimDf.iloc[:,0]):\n",
    "                #Find where the data starts\n",
    "                if 'Name,Match' in line:\n",
    "                    dataStart = i+2\n",
    "                    #Added placeholder to account for final commas\n",
    "                    headerNames = line.split(',')+['Placeholder']\n",
    "                #Grab the basic attribute data as it's variable between files\n",
    "                if 'Basic Attributes: ' in line:\n",
    "                    basAtr = line.split('Basic Attributes: ')[-1]\n",
    "                    basAtr = basAtr[:-2]\n",
    "            #Get the sheet dataframe containing it's predefined columns\n",
    "            sheetDf = pd.read_csv(file, skiprows=dataStart, quotechar='\"',\n",
    "                               names=headerNames, encoding = 'unicode_escape')\n",
    "            sheetDf.drop('Placeholder', inplace=True, axis=1)\n",
    "            #Create a dataframe to hold data from all files\n",
    "            finalDf = pd.DataFrame(columns=['System',\n",
    "                                            'Name',\n",
    "                                            'Location',\n",
    "                                            'Differences'])\n",
    "            #Loop through all rows of sheetDf and append the rows that showed\n",
    "            #differences to the finalDf, listing their differences in the\n",
    "            #Differences column\n",
    "            for r, item in enumerate(sheetDf.loc[:, 'Identical']):\n",
    "                rowDf = pd.DataFrame()\n",
    "                if item != 'Y':\n",
    "                    diffStr = ''\n",
    "                    rowDf.loc[0, 'System'] = curDir.split('\\\\')[-1]\\\n",
    "                                                .split('_')[0]\n",
    "                    if  not pd.notnull(item) and not\\\n",
    "                        pd.notnull(sheetDf.loc[r,'Match']):\n",
    "                        rowDf.loc[0, 'Name'] = sheetDf.loc[r, 'Items']\n",
    "                        if sheetDf.loc[r, 'Groups']=='Descriptions different':\n",
    "                            diffStr = sheetDf.loc[r, 'Groups']\n",
    "                            rowDf.loc[0, 'Location'] = 'In Both'\n",
    "                        else:\n",
    "                            rowDf.loc[0, 'Location'] = sheetDf.loc[r, 'Groups']\n",
    "                    else:\n",
    "                        rowDf.loc[0, 'Name'] = sheetDf.loc[r, 'Name']\n",
    "                        rowDf.loc[0, 'Location'] = sheetDf.loc[r, 'Match']\n",
    "                    diffs = []\n",
    "                    if item == 'N':\n",
    "                        for i, x in enumerate(sheetDf.iloc[r, 3:]):\n",
    "                            if pd.notnull(x):\n",
    "                                colHead = sheetDf.columns[i+3]\n",
    "                                if colHead == 'Basic Attributes':\n",
    "                                    diffs.append('Basic Attributes (' + \n",
    "                                                 basAtr + ')')\n",
    "                                else:\n",
    "                                    diffs.append(colHead)\n",
    "                    if diffs != []:\n",
    "                        diffStr = (', ').join(diffs)\n",
    "                    rowDf.loc[0, 'Differences'] = diffStr\n",
    "                    #Final check to make sure data isn't just misplaced headers\n",
    "                    if rowDf.loc[0, 'Name'] == 'Name' and \\\n",
    "                    rowDf.loc[0, 'Location'] == 'Match':\n",
    "                        continue\n",
    "                    finalDf = finalDf.append(rowDf, ignore_index=True)\n",
    "                    \n",
    "            return finalDf"
   ]
  },
  {
   "cell_type": "code",
   "execution_count": 48,
   "metadata": {
    "collapsed": true
   },
   "outputs": [],
   "source": [
    "def createSheet(sheet):\n",
    "    \"\"\"Creates and formats the sheet for a specific comparison field (sheet).\n",
    "    \"\"\"\n",
    "    global writer\n",
    "    global dirs\n",
    "    global coDf\n",
    "    global curDir\n",
    "   \n",
    "    changed = []\n",
    "    dfList = []\n",
    "    logger.info('Creating sheet for ' + sheet + '...')\n",
    "    #Loop through all systems in comparison overview dataframe to find those\n",
    "    #with differences\n",
    "    for i, item in enumerate(coDf.loc[:, sheet]):\n",
    "        #If system has changed for this comparison field append it to the list\n",
    "        if item == 'Y':\n",
    "            changed.append(coDf.index[i])\n",
    "    #Create a list of dataframes for each system that has changes in the\n",
    "    #comparison field (sheet)\n",
    "    for changedSys in changed:\n",
    "        for aDir in dirs:\n",
    "            if changedSys in aDir:\n",
    "                curDir = aDir\n",
    "                dfList.append(createSheetDf(sheet))\n",
    "    bigDf = pd.DataFrame()\n",
    "    #Compile the list of dataframes into one big dataframe\n",
    "    for df in dfList:\n",
    "        df = df.replace('',np.nan)\n",
    "        df.dropna(how='all', subset=['Name','Location','Differences'],\n",
    "                  inplace=True)\n",
    "        df = df.replace(np.nan, '')\n",
    "        bigDf = bigDf.append(df)\n",
    "    #Create a worksheet using xlsxwriter\n",
    "    wb = writer.book\n",
    "    ws = wb.add_worksheet(sheet)\n",
    "    #Create variable to hold the system name, as when a system changes we\n",
    "    #want a larger border to visually seperate systems\n",
    "    prevSys = None\n",
    "    #Loop through each row in the bigDf and each column item to the sheet in\n",
    "    #the proper formatting\n",
    "    for r, system in enumerate(bigDf.loc[:, 'System']):\n",
    "        std_format = wb.add_format({'bg_color': 'white',\n",
    "                                    'border': 1,\n",
    "                                    'align': 'left',\n",
    "                                    'valign': 'vcenter'})\n",
    "        sys_format = wb.add_format({'bg_color': 'white',\n",
    "                                    'border': 1,\n",
    "                                    'right': 5,\n",
    "                                    'left': 5,\n",
    "                                    'align': 'center',\n",
    "                                    'bold': True,\n",
    "                                    'valign': 'vcenter'})\n",
    "        if r == 0:\n",
    "            ws.write(0,0, 'System', wb.add_format({'border': 5,\n",
    "                                                   'bold': True,\n",
    "                                                   'align': 'center',\n",
    "                                                   'valign': 'vcenter'}))\n",
    "            ws.write(0,1, 'Name', wb.add_format({'top': 5,\n",
    "                                                 'bottom': 5,\n",
    "                                                 'left': 5,\n",
    "                                                 'right': 1,\n",
    "                                                 'bold': True,\n",
    "                                                 'align': 'center',\n",
    "                                                 'valign': 'vcenter'}))\n",
    "            ws.write(0,2, 'Location', wb.add_format({'top': 5,\n",
    "                                                 'bottom': 5,\n",
    "                                                 'left': 1,\n",
    "                                                 'right': 1,\n",
    "                                                 'bold': True,\n",
    "                                                 'align': 'center',\n",
    "                                                 'valign': 'vcenter'}))\n",
    "            ws.write(0,3, 'Differences', wb.add_format({'top': 5,\n",
    "                                                 'bottom': 5,\n",
    "                                                 'left': 1,\n",
    "                                                 'right': 5,\n",
    "                                                 'bold': True,\n",
    "                                                 'align': 'center',\n",
    "                                                 'valign': 'vcenter'}))\n",
    "        #Sets up the thick borders for system separation\n",
    "        if system != prevSys:\n",
    "            std_format.set_top(5)\n",
    "            sys_format.set_top(5)\n",
    "            prevSys = system\n",
    "        \n",
    "        #Sets a thick border for the final line of the dataset\n",
    "        if r == len(bigDf.iloc[:, 0])-1:\n",
    "            std_format.set_bottom(5)\n",
    "            sys_format.set_bottom(5)\n",
    "        \n",
    "        #Writes the data to the sheet for each item in each column\n",
    "        for c, info in enumerate(bigDf.iloc[r, :]):\n",
    "            if c == 0:\n",
    "                form = sys_format\n",
    "            else:\n",
    "                form = std_format\n",
    "            ws.write(r+1, c, info, form)\n",
    "        #Get the cell range of the dataset as a string\n",
    "        cellStr = 'E2:E' + str(len(bigDf.iloc[:,0])+1)\n",
    "        #Make the far right border of the dataset thick\n",
    "        ws.conditional_format(cellStr, {'type': 'blanks',\n",
    "                                   'format': wb.add_format({'left': 5})\n",
    "                                   })\n",
    "                                        \n",
    "    #Set the column widths\n",
    "    ws.set_column(0, 0, 27)\n",
    "    ws.set_column(1, 1, 40)\n",
    "    ws.set_column(2, 2, 11)\n",
    "    ws.set_column(3, 3, 126)"
   ]
  },
  {
   "cell_type": "code",
   "execution_count": 49,
   "metadata": {
    "collapsed": true
   },
   "outputs": [],
   "source": [
    "#Runs the main function if the script itself is being run and not being imported\n",
    "def main(inpFol, outFol):\n",
    "    \"\"\"Runs the overall task, converting zip files in the INPUT folder into\n",
    "    an xlsx sheet in the OUTPUT folder.\n",
    "    \"\"\"\n",
    "    global coDf, writer, dirs, logger, running, progBar, pThread\n",
    "    coDf = pd.DataFrame(columns = ['CLASSIFICATION',\n",
    "                               'TASK',\n",
    "                               'CLASSIFICATION MAPPING',\n",
    "                               'PARAMETER',\n",
    "                               'CALCULATION DEFINITION',\n",
    "                               'CONSISTENCY CHECK DEFINITION',\n",
    "                               'TIMESERIES IMPORT DEFINITION',\n",
    "                               'DATASET DEFINITION',\n",
    "                               'SEAS EXPORT DEFINITION',\n",
    "                               'VISUALISATION DEFINITION',\n",
    "                               'TIMESERIES EXPORT DEFINITION'])\n",
    "    #Set up the logger\n",
    "    log = GUIHandler()\n",
    "    fileLog = logging.FileHandler(filename='AutoCompareModes.log', mode='w')\n",
    "    logging.getLogger(\"AutoCompareModes\").handlers = []\n",
    "    log.setFormatter(logging.Formatter(\n",
    "        \"[%(levelname)s] %(message)s\"))\n",
    "    fileLog.setFormatter(logging.Formatter(\n",
    "        \"[%(asctime)s] ->%(lineno)d [%(levelname)s] %(message)s\"))\n",
    "    logging.getLogger(\"AutoCompareModes\").addHandler(log)\n",
    "    logging.getLogger(\"AutoCompareModes\").addHandler(fileLog)\n",
    "    logging.getLogger(\"AutoCompareModes\").setLevel(logging.DEBUG)\n",
    "    logger = logging.getLogger(\"AutoCompareModes\")\n",
    "    logger.propagate = False\n",
    "    #Start the progress bar thread\n",
    "    pThread = progThread(0,30,0.1,prog_bar)\n",
    "    pThread.start()\n",
    "    #Reset the source and target modes\n",
    "    origSrc = None\n",
    "    origTrg = None\n",
    "    dirs = []\n",
    "    #Valid = True when a valid comparison report file is found in the INPUT folder \n",
    "    valid = False\n",
    "    #Unzip all zip files\n",
    "    if list(glob.glob(inpFol+'/'+'*.zip')) == []:\n",
    "        logger.error('NO INPUT FILES FOUND. Place CORD Stat Act Comparison zip '+\n",
    "              'files in the INPUT file and re-run.')\n",
    "        raise ValueError('No input files found in INPUT folder.')\n",
    "    for filepath in glob.glob(inpFol+'/'+'*.zip'):\n",
    "        file = filepath.split('\\\\')[-1]\n",
    "        if 'Stat_Act_Comparision_Report' not in file:\n",
    "            logger.warning(file + ' is not a Comparison Report, this file will be '+\n",
    "                  'skipped.')\n",
    "            continue\n",
    "        if not valid:\n",
    "            valid = True\n",
    "        skip = False\n",
    "        for stat in dirs:\n",
    "            cur = file.split('_Stat_Act_Comparision_Report_')[0]\n",
    "            if stat.split('_Stat_Act_Comparision_Report_')[0] == cur:\n",
    "                logger.warning('There are multiple Reports for the Stat Act: ' + cur +\n",
    "                      '. Only the file \"' + stat + '\" will be analysed.')\n",
    "                skip=True\n",
    "        if skip: continue\n",
    "        unzipFiles(filepath)\n",
    "        dirs.append(os.path.splitext(filepath)[0])\n",
    "    delay = 0.1*len(dirs)\n",
    "    pThread.stop()\n",
    "    pThread = progThread(30,20,delay,prog_bar)\n",
    "    pThread.start()\n",
    "    if not valid:\n",
    "        logger.error('No comparison reports were found in the INPUT folder!')\n",
    "        raise ValueError('No comparison reports in INPUT folder.')\n",
    "    #Read all directories to create the comparison dataset\n",
    "    for aDir in dirs:\n",
    "        logger.info('Reading summary for '+aDir.split('\\\\')[-1]+'...')\n",
    "        sList, idxName, src, trg = readSummmary(aDir)\n",
    "        #If the zip file contains no files it will return 'invalid'\n",
    "        #If invalid is found, throw and error and skip the folder\n",
    "        if 'invalid' in {src, trg}:\n",
    "            logger.error('This report contains no information! Skipping...')\n",
    "            coDf = coDf.append(pd.Series(name=idxName))\n",
    "            continue\n",
    "        if(origSrc == None and origTrg == None):\n",
    "            origSrc = src\n",
    "            origTrg = trg\n",
    "        if src == origSrc and trg == origTrg:\n",
    "            logger.info('Adding to comparison...')\n",
    "            compileCO(sList, idxName)\n",
    "        else:\n",
    "            logger.error('Source and target were different!' + \n",
    "                  ' Skipping comparison...')\n",
    "    pThread.stop()\n",
    "    pThread = progThread(50,49,0.5,prog_bar)\n",
    "    pThread.start()\n",
    "    logger.info('Creating Comparison Overview...')\n",
    "    date = datetime.today().strftime('%d-%m-%Y')\n",
    "    compTitle = 'Comparison Overview (' + src + '-' + trg + ') ' + date +\\\n",
    "    '.xlsx'\n",
    "    sameFiles = []\n",
    "    for file in glob.glob(outFol+'/'+'*.xlsx'):\n",
    "        if compTitle[:-5] in file:\n",
    "            sameFiles.append(file)\n",
    "    if os.path.exists(outFol+'/'+compTitle):\n",
    "        compTitle = compTitle[:-5] + '(' + str(len(sameFiles)) + ').xlsx'\n",
    "    writer = pd.ExcelWriter(outFol+'/'+compTitle, engine='xlsxwriter')\n",
    "    coDf.columns = ['CLASSIFICATION',\n",
    "                    'TASK',\n",
    "                    'MAPPINGS',\n",
    "                    'PARAMETERS',\n",
    "                    'CALCULATIONS',\n",
    "                    'CON CHECKS',\n",
    "                    'IMPORT DEFS',\n",
    "                    'DATASETS',\n",
    "                    'SEAS EXPORT DEFS',\n",
    "                    'VISUALISATIONS',\n",
    "                    'EXPORT DEFS']\n",
    "    coDf.to_excel(writer, sheet_name='Comparison Overview')\n",
    "    logger.info('Applying formatting to Comparison Overview...')\n",
    "    formatComparison(writer)\n",
    "\n",
    "    #Create a comparison sheet for every comparison field that has a changed\n",
    "    #system\n",
    "    coDfAdj = coDf.dropna(how='all', axis=1)\n",
    "    for col in coDfAdj.columns:\n",
    "        createSheet(col)\n",
    "    #Save the file\n",
    "    writer.save()\n",
    "    pThread.stop()\n",
    "    prog_bar.value = 100\n",
    "    logger.info('Done!')\n",
    "    completed_run(outFol+'/'+compTitle)"
   ]
  },
  {
   "cell_type": "code",
   "execution_count": 50,
   "metadata": {
    "collapsed": true
   },
   "outputs": [],
   "source": [
    "supportedTypes = ['CLASSIFICATION',\n",
    "                  'TASK',\n",
    "                  'CLASSIFICATION MAPPING',\n",
    "                  'PARAMETER',\n",
    "                  'CALCULATION DEFINITION',\n",
    "                  'CONSISTENCY CHECK DEFINITION',\n",
    "                  'TIMESERIES IMPORT DEFINITION',\n",
    "                  'DATASET DEFINITION',\n",
    "                  'SEAS EXPORT DEFINITION',\n",
    "                  'VISUALISATION DEFINITION',\n",
    "                  'TIMESERIES EXPORT DEFINITION']"
   ]
  },
  {
   "cell_type": "code",
   "execution_count": 51,
   "metadata": {},
   "outputs": [
    {
     "data": {
      "text/html": [
       "<script>\n",
       "code_show=true;\n",
       "var x = document.getElementById(\"firstRun\");\n",
       "function code_toggle() {\n",
       " if (code_show){\n",
       " $('div.input').hide();\n",
       " } else {\n",
       " $('div.input').show();\n",
       " }\n",
       " x.style.display = \"none\";\n",
       " code_show = !code_show\n",
       "} \n",
       "$( document ).ready(code_toggle);\n",
       "</script>\n",
       "The raw code for this notebook is hidden by default for easier reading.\n",
       "To toggle the raw code on/off, click <a href=\"javascript:code_toggle()\">here</a>."
      ],
      "text/plain": [
       "<IPython.core.display.HTML object>"
      ]
     },
     "execution_count": 51,
     "metadata": {},
     "output_type": "execute_result"
    }
   ],
   "source": [
    "HTML('''<script>\n",
    "code_show=true;\n",
    "var x = document.getElementById(\"firstRun\");\n",
    "function code_toggle() {\n",
    " if (code_show){\n",
    " $('div.input').hide();\n",
    " } else {\n",
    " $('div.input').show();\n",
    " }\n",
    " x.style.display = \"none\";\n",
    " code_show = !code_show\n",
    "} \n",
    "$( document ).ready(code_toggle);\n",
    "</script>\n",
    "The raw code for this notebook is hidden by default for easier reading.\n",
    "To toggle the raw code on/off, click <a href=\"javascript:code_toggle()\">here</a>.''')"
   ]
  },
  {
   "cell_type": "code",
   "execution_count": null,
   "metadata": {
    "collapsed": true
   },
   "outputs": [],
   "source": []
  }
 ],
 "metadata": {
  "kernelspec": {
   "display_name": "Python 3",
   "language": "python",
   "name": "python3"
  },
  "language_info": {
   "codemirror_mode": {
    "name": "ipython",
    "version": 3
   },
   "file_extension": ".py",
   "mimetype": "text/x-python",
   "name": "python",
   "nbconvert_exporter": "python",
   "pygments_lexer": "ipython3",
   "version": "3.6.1"
  },
  "widgets": {
   "application/vnd.jupyter.widget-state+json": {
    "state": {
     "11e3368f5e7d4467b5482f7935ffe983": {
      "model_module": "jupyter-js-widgets",
      "model_module_version": "~2.1.4",
      "model_name": "LayoutModel",
      "state": {
       "_model_module_version": "~2.1.4",
       "_view_module_version": "~2.1.4"
      }
     },
     "13acbac70af846c0a48803bf9f23b1d0": {
      "model_module": "jupyter-js-widgets",
      "model_module_version": "~2.1.4",
      "model_name": "LabelModel",
      "state": {
       "_model_module_version": "~2.1.4",
       "_view_module_version": "~2.1.4",
       "layout": "IPY_MODEL_a0951c9ff67643c9ac1a3114bfacb776",
       "value": "Please select..."
      }
     },
     "171458d2b9424a7aabb49279ae449b54": {
      "model_module": "jupyter-js-widgets",
      "model_module_version": "~2.1.4",
      "model_name": "LayoutModel",
      "state": {
       "_model_module_version": "~2.1.4",
       "_view_module_version": "~2.1.4",
       "height": "25px",
       "width": "auto"
      }
     },
     "2dd6e7f813ad421b95d668b6297da4a3": {
      "model_module": "jupyter-js-widgets",
      "model_module_version": "~2.1.4",
      "model_name": "LayoutModel",
      "state": {
       "_model_module_version": "~2.1.4",
       "_view_module_version": "~2.1.4",
       "height": "",
       "width": "auto"
      }
     },
     "67cfe477e7944c67b0876767d0f6d885": {
      "model_module": "jupyter-js-widgets",
      "model_module_version": "~2.1.4",
      "model_name": "ButtonModel",
      "state": {
       "_model_module_version": "~2.1.4",
       "_view_module_version": "~2.1.4",
       "button_style": "info",
       "description": "Open Compare Mode Summary",
       "layout": "IPY_MODEL_171458d2b9424a7aabb49279ae449b54",
       "style": "IPY_MODEL_8f8d8bea301f4dbdaf1563f0172f97ea"
      }
     },
     "73a93d9e4d4849a589669f846512f735": {
      "model_module": "jupyter-js-widgets",
      "model_module_version": "~2.1.4",
      "model_name": "VBoxModel",
      "state": {
       "_model_module_version": "~2.1.4",
       "_view_module_version": "~2.1.4",
       "children": [
        "IPY_MODEL_82757de5c7864bcf9293285cea60a752",
        "IPY_MODEL_e3d67b8304bd470eb5c8fa0bc0abcd1f"
       ],
       "layout": "IPY_MODEL_2dd6e7f813ad421b95d668b6297da4a3"
      }
     },
     "73e14d06f1a44205b1ba6121cc072188": {
      "model_module": "jupyter-js-widgets",
      "model_module_version": "~2.1.4",
      "model_name": "ButtonStyleModel",
      "state": {
       "_model_module_version": "~2.1.4",
       "_view_module_version": "~2.1.4"
      }
     },
     "7ff904345a67407aaae999a5791fa9c9": {
      "model_module": "jupyter-js-widgets",
      "model_module_version": "~2.1.4",
      "model_name": "ButtonStyleModel",
      "state": {
       "_model_module_version": "~2.1.4",
       "_view_module_version": "~2.1.4",
       "button_color": "orange"
      }
     },
     "82757de5c7864bcf9293285cea60a752": {
      "model_module": "jupyter-js-widgets",
      "model_module_version": "~2.1.4",
      "model_name": "HBoxModel",
      "state": {
       "_model_module_version": "~2.1.4",
       "_view_module_version": "~2.1.4",
       "children": [
        "IPY_MODEL_d8827b50b129413e9365d529d3fdf1c9",
        "IPY_MODEL_13acbac70af846c0a48803bf9f23b1d0"
       ],
       "layout": "IPY_MODEL_ccb39e00005c40dfb310e8ad6d571599"
      }
     },
     "85761badd90f4b93808615d97f067ce7": {
      "model_module": "jupyter-js-widgets",
      "model_module_version": "~2.1.4",
      "model_name": "LayoutModel",
      "state": {
       "_model_module_version": "~2.1.4",
       "_view_module_version": "~2.1.4",
       "height": "50px",
       "width": "auto"
      }
     },
     "88c7a75eaf594d818f506c28aece762c": {
      "model_module": "jupyter-js-widgets",
      "model_module_version": "~2.1.4",
      "model_name": "LayoutModel",
      "state": {
       "_model_module_version": "~2.1.4",
       "_view_module_version": "~2.1.4"
      }
     },
     "8f8d8bea301f4dbdaf1563f0172f97ea": {
      "model_module": "jupyter-js-widgets",
      "model_module_version": "~2.1.4",
      "model_name": "ButtonStyleModel",
      "state": {
       "_model_module_version": "~2.1.4",
       "_view_module_version": "~2.1.4"
      }
     },
     "98b6f71bd970476d8c19260878664d04": {
      "model_module": "jupyter-js-widgets",
      "model_module_version": "~2.1.4",
      "model_name": "LayoutModel",
      "state": {
       "_model_module_version": "~2.1.4",
       "_view_module_version": "~2.1.4",
       "height": "25px",
       "width": "150px"
      }
     },
     "9ebb02429f4a49f9bff75a73e6038a7b": {
      "model_module": "jupyter-js-widgets",
      "model_module_version": "~2.1.4",
      "model_name": "ButtonStyleModel",
      "state": {
       "_model_module_version": "~2.1.4",
       "_view_module_version": "~2.1.4"
      }
     },
     "a0951c9ff67643c9ac1a3114bfacb776": {
      "model_module": "jupyter-js-widgets",
      "model_module_version": "~2.1.4",
      "model_name": "LayoutModel",
      "state": {
       "_model_module_version": "~2.1.4",
       "_view_module_version": "~2.1.4",
       "height": "",
       "max_width": "1920px",
       "width": "auto"
      }
     },
     "a7356512086545ee8a5c92794d84dc74": {
      "model_module": "jupyter-js-widgets",
      "model_module_version": "~2.1.4",
      "model_name": "ButtonModel",
      "state": {
       "_model_module_version": "~2.1.4",
       "_view_module_version": "~2.1.4",
       "description": "Run",
       "disabled": true,
       "layout": "IPY_MODEL_85761badd90f4b93808615d97f067ce7",
       "style": "IPY_MODEL_73e14d06f1a44205b1ba6121cc072188"
      }
     },
     "bae0fb2818eb40199a5c39472f6b30a2": {
      "model_module": "jupyter-js-widgets",
      "model_module_version": "~2.1.4",
      "model_name": "LayoutModel",
      "state": {
       "_model_module_version": "~2.1.4",
       "_view_module_version": "~2.1.4",
       "height": "25px",
       "width": "150px"
      }
     },
     "ccb39e00005c40dfb310e8ad6d571599": {
      "model_module": "jupyter-js-widgets",
      "model_module_version": "~2.1.4",
      "model_name": "LayoutModel",
      "state": {
       "_model_module_version": "~2.1.4",
       "_view_module_version": "~2.1.4"
      }
     },
     "ced55968012244309ff21bcb5bb4433b": {
      "model_module": "jupyter-js-widgets",
      "model_module_version": "~2.1.4",
      "model_name": "LayoutModel",
      "state": {
       "_model_module_version": "~2.1.4",
       "_view_module_version": "~2.1.4",
       "height": "25px",
       "width": "auto"
      }
     },
     "d507baf17ce743408c5823e39df43021": {
      "model_module": "jupyter-js-widgets",
      "model_module_version": "~2.1.4",
      "model_name": "LabelModel",
      "state": {
       "_model_module_version": "~2.1.4",
       "_view_module_version": "~2.1.4",
       "layout": "IPY_MODEL_a0951c9ff67643c9ac1a3114bfacb776",
       "value": "Please select..."
      }
     },
     "d7e0e5c4cff34b53b6853e585f47debe": {
      "model_module": "jupyter-js-widgets",
      "model_module_version": "~2.1.4",
      "model_name": "LayoutModel",
      "state": {
       "_model_module_version": "~2.1.4",
       "_view_module_version": "~2.1.4"
      }
     },
     "d8827b50b129413e9365d529d3fdf1c9": {
      "model_module": "jupyter-js-widgets",
      "model_module_version": "~2.1.4",
      "model_name": "ButtonModel",
      "state": {
       "_model_module_version": "~2.1.4",
       "_view_module_version": "~2.1.4",
       "description": "Input Location",
       "icon": "square-o",
       "layout": "IPY_MODEL_98b6f71bd970476d8c19260878664d04",
       "style": "IPY_MODEL_f97f26c747654bfe931391d1f67fde8c"
      }
     },
     "da2151f8ff57476a966981a9288637cf": {
      "model_module": "jupyter-js-widgets",
      "model_module_version": "~2.1.4",
      "model_name": "ButtonModel",
      "state": {
       "_model_module_version": "~2.1.4",
       "_view_module_version": "~2.1.4",
       "button_style": "info",
       "description": "Open Output Folder",
       "layout": "IPY_MODEL_ced55968012244309ff21bcb5bb4433b",
       "style": "IPY_MODEL_9ebb02429f4a49f9bff75a73e6038a7b"
      }
     },
     "dda76d21bafb45cf8d6ef19fb00903f5": {
      "model_module": "jupyter-js-widgets",
      "model_module_version": "~2.1.4",
      "model_name": "LayoutModel",
      "state": {
       "_model_module_version": "~2.1.4",
       "_view_module_version": "~2.1.4"
      }
     },
     "e25411d34f9b4cdfb30da35a47a95e37": {
      "model_module": "jupyter-js-widgets",
      "model_module_version": "~2.1.4",
      "model_name": "LayoutModel",
      "state": {
       "_model_module_version": "~2.1.4",
       "_view_module_version": "~2.1.4",
       "height": "",
       "width": "auto"
      }
     },
     "e3d67b8304bd470eb5c8fa0bc0abcd1f": {
      "model_module": "jupyter-js-widgets",
      "model_module_version": "~2.1.4",
      "model_name": "HBoxModel",
      "state": {
       "_model_module_version": "~2.1.4",
       "_view_module_version": "~2.1.4",
       "children": [
        "IPY_MODEL_f64b203fd743455a8a687506d06ef2d7",
        "IPY_MODEL_d507baf17ce743408c5823e39df43021"
       ],
       "layout": "IPY_MODEL_11e3368f5e7d4467b5482f7935ffe983"
      }
     },
     "f64b203fd743455a8a687506d06ef2d7": {
      "model_module": "jupyter-js-widgets",
      "model_module_version": "~2.1.4",
      "model_name": "ButtonModel",
      "state": {
       "_model_module_version": "~2.1.4",
       "_view_module_version": "~2.1.4",
       "description": "Output Location",
       "icon": "square-o",
       "layout": "IPY_MODEL_bae0fb2818eb40199a5c39472f6b30a2",
       "style": "IPY_MODEL_7ff904345a67407aaae999a5791fa9c9"
      }
     },
     "f97f26c747654bfe931391d1f67fde8c": {
      "model_module": "jupyter-js-widgets",
      "model_module_version": "~2.1.4",
      "model_name": "ButtonStyleModel",
      "state": {
       "_model_module_version": "~2.1.4",
       "_view_module_version": "~2.1.4",
       "button_color": "orange"
      }
     },
     "fc0de2a4ecce45bfb8d4a9e296ed618e": {
      "model_module": "jupyter-js-widgets",
      "model_module_version": "~2.1.4",
      "model_name": "VBoxModel",
      "state": {
       "_model_module_version": "~2.1.4",
       "_view_module_version": "~2.1.4",
       "children": [
        "IPY_MODEL_73a93d9e4d4849a589669f846512f735",
        "IPY_MODEL_a7356512086545ee8a5c92794d84dc74"
       ],
       "layout": "IPY_MODEL_d7e0e5c4cff34b53b6853e585f47debe"
      }
     },
     "ffb21a48943f41658c3c722bdbf7375c": {
      "model_module": "jupyter-js-widgets",
      "model_module_version": "~2.1.4",
      "model_name": "ProgressModel",
      "state": {
       "_model_module_version": "~2.1.4",
       "_view_module_version": "~2.1.4",
       "description": "Progress:",
       "layout": "IPY_MODEL_e25411d34f9b4cdfb30da35a47a95e37",
       "step": 0.1
      }
     }
    },
    "version_major": 1,
    "version_minor": 0
   }
  }
 },
 "nbformat": 4,
 "nbformat_minor": 2
}
